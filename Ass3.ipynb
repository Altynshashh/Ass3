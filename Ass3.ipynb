{
 "cells": [
  {
   "cell_type": "markdown",
   "metadata": {},
   "source": [
    "### Members:\n",
    "* Daniyarova Altynshash \n",
    "* Zhanbyrbayeva Gulzhanat\n",
    "\n",
    "### Group: BDA-1904"
   ]
  },
  {
   "cell_type": "markdown",
   "metadata": {},
   "source": [
    "# Assignment 3"
   ]
  },
  {
   "cell_type": "code",
   "execution_count": 88,
   "metadata": {},
   "outputs": [
    {
     "data": {
      "text/plain": [
       "'fgbjflgbnvm:c,sdmvgflmbjkfdnfsbklfn'"
      ]
     },
     "execution_count": 88,
     "metadata": {},
     "output_type": "execute_result"
    }
   ],
   "source": [
    "# Let's open and read our txt file named ReadingFile.txt\n",
    "in_text = open('ReadingFile.txt','r')\n",
    "in_text = in_text.read()\n",
    "in_text"
   ]
  },
  {
   "cell_type": "code",
   "execution_count": 89,
   "metadata": {},
   "outputs": [
    {
     "name": "stdout",
     "output_type": "stream",
     "text": [
      "The number of unique characters is:\n"
     ]
    },
    {
     "data": {
      "text/plain": [
       "14"
      ]
     },
     "execution_count": 89,
     "metadata": {},
     "output_type": "execute_result"
    }
   ],
   "source": [
    "# Now we find the total number of all uniques\n",
    "str = len(set(in_text))\n",
    "print('The number of unique characters is:')\n",
    "str"
   ]
  },
  {
   "cell_type": "code",
   "execution_count": 90,
   "metadata": {},
   "outputs": [
    {
     "data": {
      "text/plain": [
       "[',', ':', 'b', 'c', 'd', 'f', 'g', 'j', 'k', 'l', 'm', 'n', 's', 'v']"
      ]
     },
     "execution_count": 90,
     "metadata": {},
     "output_type": "execute_result"
    }
   ],
   "source": [
    "# Let's convert our variable to list for using method sort()\n",
    "w_text = list(set(in_text))\n",
    "w_text.sort()\n",
    "for s in w_text:\n",
    "    if s =='':\n",
    "        s = 'space'\n",
    "    elif s == '\\n':\n",
    "        s = 'new line'\n",
    "    elif s == '\\t':\n",
    "        s = 'tab'\n",
    "w_text"
   ]
  },
  {
   "cell_type": "code",
   "execution_count": 91,
   "metadata": {},
   "outputs": [
    {
     "data": {
      "text/plain": [
       "{',': 1,\n",
       " ':': 1,\n",
       " 'b': 4,\n",
       " 'c': 1,\n",
       " 'd': 2,\n",
       " 'f': 6,\n",
       " 'g': 3,\n",
       " 'j': 2,\n",
       " 'k': 2,\n",
       " 'l': 3,\n",
       " 'm': 3,\n",
       " 'n': 3,\n",
       " 's': 2,\n",
       " 'v': 2}"
      ]
     },
     "execution_count": 91,
     "metadata": {},
     "output_type": "execute_result"
    }
   ],
   "source": [
    "# Now we create a dictionary of uniques and their frequencies\n",
    "our_dict = {\n",
    "    symbol: len([a for a in in_text \n",
    "                if a == symbol])\n",
    "    for symbol in w_text\n",
    "}\n",
    "our_dict"
   ]
  },
  {
   "cell_type": "code",
   "execution_count": 92,
   "metadata": {},
   "outputs": [
    {
     "data": {
      "text/plain": [
       "{',': 0.029,\n",
       " ':': 0.029,\n",
       " 'b': 0.114,\n",
       " 'c': 0.029,\n",
       " 'd': 0.057,\n",
       " 'f': 0.171,\n",
       " 'g': 0.086,\n",
       " 'j': 0.057,\n",
       " 'k': 0.057,\n",
       " 'l': 0.086,\n",
       " 'm': 0.086,\n",
       " 'n': 0.086,\n",
       " 's': 0.057,\n",
       " 'v': 0.057}"
      ]
     },
     "execution_count": 92,
     "metadata": {},
     "output_type": "execute_result"
    }
   ],
   "source": [
    "#Here we find probabilities for each symbol\n",
    "for each in our_dict:\n",
    "    our_dict[each] = round(our_dict[each]/len(in_text), 3)\n",
    "our_dict"
   ]
  },
  {
   "cell_type": "code",
   "execution_count": 93,
   "metadata": {},
   "outputs": [],
   "source": [
    "letters = []\n",
    "only_letters =[]\n",
    "for letter in in_text:\n",
    "    if letter not in letters:\n",
    "        freg = in_text.count(letter)\n",
    "        letters.append(letter)\n",
    "        only_letters.append(letter)"
   ]
  },
  {
   "cell_type": "code",
   "execution_count": 94,
   "metadata": {},
   "outputs": [],
   "source": [
    "nodes = []\n",
    "while len(letters)>0:\n",
    "    nodes.append(letters[0:2])\n",
    "    letters = letters[2:]\n",
    "nodes.sort()\n",
    "huffman_tree = []\n",
    "huffman_tree.append(nodes)"
   ]
  },
  {
   "cell_type": "code",
   "execution_count": 95,
   "metadata": {},
   "outputs": [
    {
     "name": "stdout",
     "output_type": "stream",
     "text": [
      "Huffman Tree\n"
     ]
    }
   ],
   "source": [
    "def combine(nodes):\n",
    "    pos = 0\n",
    "    newnode = []\n",
    "    if len(nodes)>1:\n",
    "        nodes.sort()\n",
    "        nodes[pos].append(\"0\")\n",
    "        nodes[pos+1].append(\"1\")\n",
    "        combined_node1 = (nodes[pos][0]+nodes[pos+1][0])\n",
    "        combined_node2 = (nodes[pos][1]+nodes[pos+1][1])\n",
    "        newnode.append(combined_node1)\n",
    "        newnode.append(combined_node2)\n",
    "        newnodes = []\n",
    "        newnode.append(newnode)\n",
    "        newnodes = newnodes + nodes[2:]\n",
    "        nodes = newnodes\n",
    "        huffman_tree.append(nodes)\n",
    "        combine(nodes)\n",
    "    return huffman_tree\n",
    "newnodes = combine(nodes)\n",
    "huffman_tree.sort(reverse=True)\n",
    "print(\"Huffman Tree\")"
   ]
  },
  {
   "cell_type": "code",
   "execution_count": 96,
   "metadata": {},
   "outputs": [
    {
     "name": "stdout",
     "output_type": "stream",
     "text": [
      "Node 0 : [['v', 'm']]\n",
      "Node 1 : [['f', 'g', '0'], ['l', 'n', '1']]\n",
      "Node 2 : [['b', 'j', '0'], ['d', 'k', '1'], ['l', 'n', '1']]\n",
      "Node 3 : [[',', 's', '0'], [':', 'c', '1'], ['d', 'k', '1'], ['l', 'n', '1']]\n",
      "\n"
     ]
    }
   ],
   "source": [
    "checklist = []\n",
    "for level in huffman_tree:\n",
    "    for node in level:\n",
    "        if node not in checklist:\n",
    "            checklist.append(node)\n",
    "        else:\n",
    "            level.remove(node)\n",
    "count = 0\n",
    "for level in huffman_tree:\n",
    "    print(\"Node\",count,\":\",level)\n",
    "    count+=1\n",
    "print()"
   ]
  },
  {
   "cell_type": "code",
   "execution_count": 97,
   "metadata": {},
   "outputs": [],
   "source": [
    "letter_binary = []\n",
    "if len(only_letters)==1:\n",
    "    letter_code = [only_letters[0],\"0\"]\n",
    "    letter_binary.append(letter_code*len(in_text))\n",
    "else:\n",
    "    for letter in only_letters:\n",
    "        lettercode = \"\"\n",
    "        for node in checklist:\n",
    "            if len(node)>2 and letter in node[1]:\n",
    "                lettercode = lettercode + node[2]\n",
    "        letter_code = [letter, lettercode]\n",
    "        letter_binary.append(letter_code)\n",
    "        "
   ]
  },
  {
   "cell_type": "code",
   "execution_count": 98,
   "metadata": {},
   "outputs": [
    {
     "name": "stdout",
     "output_type": "stream",
     "text": [
      "f -  - 0.057\n",
      "g - 0 - 0.057\n",
      "b -  - 0.057\n",
      "j - 0 - 0.057\n",
      "l -  - 0.057\n",
      "n - 1 - 0.057\n",
      "v -  - 0.057\n",
      "m -  - 0.057\n",
      ": -  - 0.057\n",
      "c - 1 - 0.057\n",
      ", -  - 0.057\n",
      "s - 0 - 0.057\n",
      "d -  - 0.057\n",
      "k - 1 - 0.057\n"
     ]
    }
   ],
   "source": [
    "for letter in letter_binary:\n",
    "    print(letter[0] ,\"-\", letter[1], \"-\" ,our_dict[each])"
   ]
  },
  {
   "cell_type": "code",
   "execution_count": 99,
   "metadata": {},
   "outputs": [],
   "source": [
    "bitstring = \"\"\n",
    "for character in in_text:\n",
    "    for item in letter_binary:\n",
    "        if character in item:\n",
    "            bitstring = bitstring + item[1]\n",
    "            "
   ]
  },
  {
   "cell_type": "code",
   "execution_count": 100,
   "metadata": {},
   "outputs": [],
   "source": [
    "binary = ((bin(int(bitstring, base=2))))"
   ]
  },
  {
   "cell_type": "code",
   "execution_count": 101,
   "metadata": {},
   "outputs": [
    {
     "name": "stdout",
     "output_type": "stream",
     "text": [
      "Original size: 280 bits\n",
      "Comrpessed: 10 bits\n",
      "Binary code: 0b1100011011\n",
      "Ratio: 28.0 bits\n"
     ]
    }
   ],
   "source": [
    "#File's sizes original and compressed\n",
    "o_size = len(in_text)*8\n",
    "print(\"Original size:\", o_size, \"bits\")\n",
    "compessed_file_size = len(binary)-2\n",
    "print(\"Comrpessed:\" ,compessed_file_size, \"bits\")\n",
    "print(\"Binary code:\", binary)\n",
    "ratio = o_size/compessed_file_size\n",
    "print(\"Ratio:\", ratio, \"bits\")\n"
   ]
  },
  {
   "cell_type": "code",
   "execution_count": null,
   "metadata": {},
   "outputs": [],
   "source": []
  },
  {
   "cell_type": "code",
   "execution_count": null,
   "metadata": {},
   "outputs": [],
   "source": []
  }
 ],
 "metadata": {
  "kernelspec": {
   "display_name": "Python 3",
   "language": "python",
   "name": "python3"
  },
  "language_info": {
   "codemirror_mode": {
    "name": "ipython",
    "version": 3
   },
   "file_extension": ".py",
   "mimetype": "text/x-python",
   "name": "python",
   "nbconvert_exporter": "python",
   "pygments_lexer": "ipython3",
   "version": "3.8.3"
  }
 },
 "nbformat": 4,
 "nbformat_minor": 4
}
